{
 "cells": [
  {
   "cell_type": "code",
   "execution_count": 45,
   "id": "9e65d528",
   "metadata": {},
   "outputs": [],
   "source": [
    "import numpy as np\n",
    "from numpy import linalg as LA\n",
    "from sympy import Matrix"
   ]
  },
  {
   "cell_type": "markdown",
   "id": "6ce9e9fd",
   "metadata": {},
   "source": [
    "**1. Select the characteristic polynomial for the given matrix.**\n",
    "\n",
    "$$\n",
    "\\begin{bmatrix}\n",
    "2 & 1 \\\\\n",
    "-3 & 6\n",
    "\\end{bmatrix}\n",
    "$$"
   ]
  },
  {
   "cell_type": "code",
   "execution_count": 46,
   "id": "05e2bb82",
   "metadata": {},
   "outputs": [
    {
     "data": {
      "text/latex": [
       "$\\displaystyle \\operatorname{PurePoly}{\\left( \\lambda^{2} - 8 \\lambda + 15, \\lambda, domain=\\mathbb{Z} \\right)}$"
      ],
      "text/plain": [
       "PurePoly(lambda**2 - 8*lambda + 15, lambda, domain='ZZ')"
      ]
     },
     "execution_count": 46,
     "metadata": {},
     "output_type": "execute_result"
    }
   ],
   "source": [
    "Matrix(np.array([2, 1, -3, 6]).reshape((2, 2))).charpoly()"
   ]
  },
  {
   "cell_type": "markdown",
   "id": "ef81e9bf",
   "metadata": {},
   "source": [
    "**2. Select the eigenvectors for the previous matrix in Q1, as given below:**\n",
    "\n",
    "$$\n",
    "\\begin{bmatrix}\n",
    "2 & 1 \\\\\n",
    "-3 & 6\n",
    "\\end{bmatrix}\n",
    "$$"
   ]
  },
  {
   "cell_type": "code",
   "execution_count": 47,
   "id": "f2bd8683",
   "metadata": {},
   "outputs": [
    {
     "name": "stdout",
     "output_type": "stream",
     "text": [
      "[[-0.70710678 -0.31622777]\n",
      " [-0.70710678 -0.9486833 ]]\n"
     ]
    },
    {
     "data": {
      "text/plain": [
       "array([[1., 1.],\n",
       "       [1., 3.]])"
      ]
     },
     "execution_count": 47,
     "metadata": {},
     "output_type": "execute_result"
    }
   ],
   "source": [
    "w, v = LA.eig(np.array([2, 1, -3, 6]).reshape((2, 2)))\n",
    "print(v)\n",
    "# scale\n",
    "np.append(\n",
    "    v[:,0] / v[0,0],\n",
    "    v[:,1] / v[0,1],\n",
    ").reshape((2,2))\n",
    "\n",
    "\n"
   ]
  },
  {
   "cell_type": "markdown",
   "id": "cc78bd7c",
   "metadata": {},
   "source": [
    "**3. Which of the following is an eigenvalue for the given identity matrix.**\n",
    "\n",
    "$$\n",
    "ID = \\begin{bmatrix}\n",
    "1 & 0 & 0 \\\\\n",
    "0 & 1 & 0 \\\\\n",
    "0 & 0 & 1\n",
    "\\end{bmatrix}\n",
    "$$"
   ]
  },
  {
   "cell_type": "code",
   "execution_count": 48,
   "id": "4fa6c327",
   "metadata": {},
   "outputs": [
    {
     "data": {
      "text/plain": [
       "array([1., 1., 1.])"
      ]
     },
     "execution_count": 48,
     "metadata": {},
     "output_type": "execute_result"
    }
   ],
   "source": [
    "w, v = LA.eig(np.identity(3))\n",
    "w"
   ]
  },
  {
   "cell_type": "markdown",
   "id": "a17102b1",
   "metadata": {},
   "source": [
    "**4. Find the eigenvalues of matrix A⋅B where:**\n",
    "\n",
    "$$\n",
    "A = \\begin{bmatrix}\n",
    "1 & 2 \\\\\n",
    "0 & 4\n",
    "\\end{bmatrix}\n",
    "\\\\\n",
    "$$\n",
    "$$\n",
    "\\\\\n",
    "B = \\begin{bmatrix}\n",
    "1 & 0 \\\\\n",
    "0 & 1\n",
    "\\end{bmatrix}\n",
    "$$\n",
    "\n",
    "_Hint: What type of matrix is B? Does it change the output when multiplied with A? If not, focus only on one of the matrices to find the eigenvalues._"
   ]
  },
  {
   "cell_type": "code",
   "execution_count": 72,
   "id": "51cabf8a",
   "metadata": {},
   "outputs": [
    {
     "data": {
      "text/plain": [
       "array([1., 4.])"
      ]
     },
     "execution_count": 72,
     "metadata": {},
     "output_type": "execute_result"
    }
   ],
   "source": [
    "A = np.array([1, 2, 0, 4]).reshape((2, 2))\n",
    "w, v = LA.eig(A)\n",
    "w"
   ]
  },
  {
   "cell_type": "markdown",
   "id": "ade688fc",
   "metadata": {},
   "source": [
    "**5. Select the eigenvectors, using the eigenvalues you found for the above matrix A⋅B in Q4.**"
   ]
  },
  {
   "cell_type": "code",
   "execution_count": 103,
   "id": "b994f62b",
   "metadata": {},
   "outputs": [
    {
     "name": "stdout",
     "output_type": "stream",
     "text": [
      "[[1.         0.5547002 ]\n",
      " [0.         0.83205029]]\n"
     ]
    },
    {
     "data": {
      "text/plain": [
       "array([[1., 2.],\n",
       "       [0., 3.]])"
      ]
     },
     "execution_count": 103,
     "metadata": {},
     "output_type": "execute_result"
    }
   ],
   "source": [
    "print(v)\n",
    "np.append(\n",
    "    v[:,0],\n",
    "    v[:,1] / v[0,1] * 2,\n",
    ").reshape((2,2)).T\n"
   ]
  },
  {
   "cell_type": "markdown",
   "id": "78691701",
   "metadata": {},
   "source": [
    "**6. Which of the vectors span the matrix**\n",
    "\n",
    "$$\n",
    "W = \\begin{bmatrix}\n",
    "2 & 3 & 0 \\\\\n",
    "1 & 2 & 5 \\\\\n",
    "3 & -2 & -1\n",
    "\\end{bmatrix}\n",
    "$$"
   ]
  },
  {
   "cell_type": "code",
   "execution_count": 115,
   "id": "0be766e4",
   "metadata": {},
   "outputs": [
    {
     "name": "stdout",
     "output_type": "stream",
     "text": [
      "[2 1 3] [ 3  2 -2] [ 0  5 -1]\n"
     ]
    }
   ],
   "source": [
    "W = np.array([2, 3, 0, 1, 2, 5, 3, -2, -1]).reshape((3,3))\n",
    "v1, v2, v3 = W[:,0], W[:,1], W[:,2]\n",
    "print(v1, v2, v3)"
   ]
  },
  {
   "cell_type": "markdown",
   "id": "a85aa0d9",
   "metadata": {},
   "source": [
    "**7. Given matrix P select the answer with the correct eigenbasis.**\n",
    "\n",
    "$$\n",
    "P = \\begin{bmatrix}\n",
    "2 & 0 & 0 \\\\\n",
    "1 & 2 & 1 \\\\\n",
    "-1 & 0 & 1\n",
    "\\end{bmatrix}\n",
    "$$\n",
    "\n",
    "_Hint: First compute the eigenvalues,  eigenvectors and construct the eigenbasis matrix with the spanning eigenvectors._"
   ]
  },
  {
   "cell_type": "code",
   "execution_count": 130,
   "id": "d176b9ca",
   "metadata": {},
   "outputs": [
    {
     "name": "stdout",
     "output_type": "stream",
     "text": [
      "[[ 0.          0.          0.70710678]\n",
      " [ 1.         -0.70710678  0.        ]\n",
      " [ 0.          0.70710678 -0.70710678]]\n"
     ]
    },
    {
     "data": {
      "text/plain": [
       "array([[ 0.,  0.,  1.],\n",
       "       [ 1., -1.,  0.],\n",
       "       [ 0.,  1., -1.]])"
      ]
     },
     "execution_count": 130,
     "metadata": {},
     "output_type": "execute_result"
    }
   ],
   "source": [
    "P = np.array([2, 0, 0, 1, 2, 1, -1, 0, 1]).reshape((3,3))\n",
    "w, v = LA.eig(P)\n",
    "print(v)\n",
    "np.hstack([v[:,0].reshape((3,1)), v[:,1:] / v[0,2]])"
   ]
  },
  {
   "cell_type": "markdown",
   "id": "6658ae18",
   "metadata": {},
   "source": [
    "**8. Select the characteristic polynomial for the given matrix.**\n",
    "\n",
    "$$\n",
    "\\begin{bmatrix}\n",
    "3 & 1 & -2 \\\\\n",
    "4 & 0 & 1 \\\\\n",
    "2 & 1 & -1\n",
    "\\end{bmatrix}\n",
    "$$"
   ]
  },
  {
   "cell_type": "code",
   "execution_count": 136,
   "id": "283affc2",
   "metadata": {},
   "outputs": [
    {
     "data": {
      "text/latex": [
       "$\\displaystyle \\operatorname{PurePoly}{\\left( \\lambda^{3} - 2 \\lambda^{2} - 4 \\lambda + 5, \\lambda, domain=\\mathbb{Z} \\right)}$"
      ],
      "text/plain": [
       "PurePoly(lambda**3 - 2*lambda**2 - 4*lambda + 5, lambda, domain='ZZ')"
      ]
     },
     "execution_count": 136,
     "metadata": {},
     "output_type": "execute_result"
    }
   ],
   "source": [
    "Matrix(np.array([3, 1, -2, 4, 0, 1, 2, 1, -1]).reshape((3,3))).charpoly()"
   ]
  },
  {
   "cell_type": "markdown",
   "id": "f1b003bf",
   "metadata": {},
   "source": [
    "**9. You are given a non-singular matrix A with real entries and eigenvalue $i$**"
   ]
  },
  {
   "cell_type": "markdown",
   "id": "cc5de113",
   "metadata": {},
   "source": [
    "$1/i$ is an eigenvalue of $A^{-1}$"
   ]
  },
  {
   "cell_type": "code",
   "execution_count": null,
   "id": "48806e5d",
   "metadata": {},
   "outputs": [],
   "source": []
  }
 ],
 "metadata": {
  "kernelspec": {
   "display_name": "Python 3 (ipykernel)",
   "language": "python",
   "name": "python3"
  },
  "language_info": {
   "codemirror_mode": {
    "name": "ipython",
    "version": 3
   },
   "file_extension": ".py",
   "mimetype": "text/x-python",
   "name": "python",
   "nbconvert_exporter": "python",
   "pygments_lexer": "ipython3",
   "version": "3.11.3"
  }
 },
 "nbformat": 4,
 "nbformat_minor": 5
}
